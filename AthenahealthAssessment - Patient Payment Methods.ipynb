{
 "cells": [
  {
   "cell_type": "code",
   "execution_count": 79,
   "metadata": {},
   "outputs": [],
   "source": [
    "import pandas as pd\n",
    "import matplotlib.ticker as ticker\n",
    "import matplotlib.pyplot as plt\n",
    "import numpy as np\n",
    "import seaborn as sns\n",
    "import scipy.stats as stats\n",
    "%matplotlib inline\n",
    "from sklearn.feature_selection import chi2\n",
    "import scipy.stats as st\n",
    "from sklearn import metrics"
   ]
  },
  {
   "cell_type": "code",
   "execution_count": 80,
   "metadata": {},
   "outputs": [],
   "source": [
    "#read files from the excel sheet\n",
    "xls = pd.ExcelFile('K:\\PPData.xlsx')\n",
    "practice = pd.read_excel(xls, 'Practice')\n",
    "payments = pd.read_excel(xls, 'Payments')\n",
    "charges = pd.read_excel(xls,'Charges')"
   ]
  },
  {
   "cell_type": "code",
   "execution_count": 81,
   "metadata": {},
   "outputs": [
    {
     "data": {
      "text/html": [
       "<div>\n",
       "<style scoped>\n",
       "    .dataframe tbody tr th:only-of-type {\n",
       "        vertical-align: middle;\n",
       "    }\n",
       "\n",
       "    .dataframe tbody tr th {\n",
       "        vertical-align: top;\n",
       "    }\n",
       "\n",
       "    .dataframe thead th {\n",
       "        text-align: right;\n",
       "    }\n",
       "</style>\n",
       "<table border=\"1\" class=\"dataframe\">\n",
       "  <thead>\n",
       "    <tr style=\"text-align: right;\">\n",
       "      <th></th>\n",
       "      <th>Practice ID</th>\n",
       "      <th>Charge ID</th>\n",
       "      <th>Charge Date</th>\n",
       "      <th>Patient ID</th>\n",
       "      <th>Charge Amount</th>\n",
       "      <th>Charge Type</th>\n",
       "      <th>Patient Age</th>\n",
       "    </tr>\n",
       "  </thead>\n",
       "  <tbody>\n",
       "    <tr>\n",
       "      <th>0</th>\n",
       "      <td>6120</td>\n",
       "      <td>6120_11364675</td>\n",
       "      <td>2021-04-18</td>\n",
       "      <td>6120_329154</td>\n",
       "      <td>16.70</td>\n",
       "      <td>COPAY</td>\n",
       "      <td>25</td>\n",
       "    </tr>\n",
       "    <tr>\n",
       "      <th>1</th>\n",
       "      <td>19851</td>\n",
       "      <td>19851_483405</td>\n",
       "      <td>2021-02-05</td>\n",
       "      <td>19851_86429</td>\n",
       "      <td>212.04</td>\n",
       "      <td>DEDUCTIBLE</td>\n",
       "      <td>90</td>\n",
       "    </tr>\n",
       "    <tr>\n",
       "      <th>2</th>\n",
       "      <td>19851</td>\n",
       "      <td>19851_473580</td>\n",
       "      <td>2021-01-22</td>\n",
       "      <td>19851_86429</td>\n",
       "      <td>132.06</td>\n",
       "      <td>DEDUCTIBLE</td>\n",
       "      <td>90</td>\n",
       "    </tr>\n",
       "    <tr>\n",
       "      <th>3</th>\n",
       "      <td>19851</td>\n",
       "      <td>19851_491385</td>\n",
       "      <td>2021-02-19</td>\n",
       "      <td>19851_86429</td>\n",
       "      <td>25.00</td>\n",
       "      <td>COINSURANCE</td>\n",
       "      <td>90</td>\n",
       "    </tr>\n",
       "    <tr>\n",
       "      <th>4</th>\n",
       "      <td>19851</td>\n",
       "      <td>19851_572250</td>\n",
       "      <td>2021-06-11</td>\n",
       "      <td>19851_86429</td>\n",
       "      <td>25.00</td>\n",
       "      <td>COINSURANCE</td>\n",
       "      <td>90</td>\n",
       "    </tr>\n",
       "  </tbody>\n",
       "</table>\n",
       "</div>"
      ],
      "text/plain": [
       "   Practice ID      Charge ID Charge Date   Patient ID  Charge Amount  \\\n",
       "0         6120  6120_11364675  2021-04-18  6120_329154          16.70   \n",
       "1        19851   19851_483405  2021-02-05  19851_86429         212.04   \n",
       "2        19851   19851_473580  2021-01-22  19851_86429         132.06   \n",
       "3        19851   19851_491385  2021-02-19  19851_86429          25.00   \n",
       "4        19851   19851_572250  2021-06-11  19851_86429          25.00   \n",
       "\n",
       "   Charge Type  Patient Age  \n",
       "0        COPAY           25  \n",
       "1   DEDUCTIBLE           90  \n",
       "2   DEDUCTIBLE           90  \n",
       "3  COINSURANCE           90  \n",
       "4  COINSURANCE           90  "
      ]
     },
     "execution_count": 81,
     "metadata": {},
     "output_type": "execute_result"
    }
   ],
   "source": [
    "#ensuring the right data is loaded\n",
    "practice.head()\n",
    "payments.head()\n",
    "charges.head()"
   ]
  },
  {
   "cell_type": "code",
   "execution_count": 82,
   "metadata": {},
   "outputs": [
    {
     "data": {
      "text/html": [
       "<div>\n",
       "<style scoped>\n",
       "    .dataframe tbody tr th:only-of-type {\n",
       "        vertical-align: middle;\n",
       "    }\n",
       "\n",
       "    .dataframe tbody tr th {\n",
       "        vertical-align: top;\n",
       "    }\n",
       "\n",
       "    .dataframe thead th {\n",
       "        text-align: right;\n",
       "    }\n",
       "</style>\n",
       "<table border=\"1\" class=\"dataframe\">\n",
       "  <thead>\n",
       "    <tr style=\"text-align: right;\">\n",
       "      <th></th>\n",
       "      <th>Practice ID</th>\n",
       "      <th>Charge Amount</th>\n",
       "      <th>Patient Age</th>\n",
       "    </tr>\n",
       "  </thead>\n",
       "  <tbody>\n",
       "    <tr>\n",
       "      <th>count</th>\n",
       "      <td>100107.000000</td>\n",
       "      <td>100107.000000</td>\n",
       "      <td>100107.00000</td>\n",
       "    </tr>\n",
       "    <tr>\n",
       "      <th>mean</th>\n",
       "      <td>4216.483563</td>\n",
       "      <td>63.753070</td>\n",
       "      <td>40.46751</td>\n",
       "    </tr>\n",
       "    <tr>\n",
       "      <th>std</th>\n",
       "      <td>3290.831231</td>\n",
       "      <td>170.348759</td>\n",
       "      <td>22.40039</td>\n",
       "    </tr>\n",
       "    <tr>\n",
       "      <th>min</th>\n",
       "      <td>57.000000</td>\n",
       "      <td>0.000000</td>\n",
       "      <td>0.00000</td>\n",
       "    </tr>\n",
       "    <tr>\n",
       "      <th>25%</th>\n",
       "      <td>1272.000000</td>\n",
       "      <td>14.750000</td>\n",
       "      <td>24.00000</td>\n",
       "    </tr>\n",
       "    <tr>\n",
       "      <th>50%</th>\n",
       "      <td>4479.000000</td>\n",
       "      <td>30.000000</td>\n",
       "      <td>38.00000</td>\n",
       "    </tr>\n",
       "    <tr>\n",
       "      <th>75%</th>\n",
       "      <td>6120.000000</td>\n",
       "      <td>66.220000</td>\n",
       "      <td>58.00000</td>\n",
       "    </tr>\n",
       "    <tr>\n",
       "      <th>max</th>\n",
       "      <td>19851.000000</td>\n",
       "      <td>12500.000000</td>\n",
       "      <td>103.00000</td>\n",
       "    </tr>\n",
       "  </tbody>\n",
       "</table>\n",
       "</div>"
      ],
      "text/plain": [
       "         Practice ID  Charge Amount   Patient Age\n",
       "count  100107.000000  100107.000000  100107.00000\n",
       "mean     4216.483563      63.753070      40.46751\n",
       "std      3290.831231     170.348759      22.40039\n",
       "min        57.000000       0.000000       0.00000\n",
       "25%      1272.000000      14.750000      24.00000\n",
       "50%      4479.000000      30.000000      38.00000\n",
       "75%      6120.000000      66.220000      58.00000\n",
       "max     19851.000000   12500.000000     103.00000"
      ]
     },
     "execution_count": 82,
     "metadata": {},
     "output_type": "execute_result"
    }
   ],
   "source": [
    "#basic description of values\n",
    "practice.describe()\n",
    "payments.describe()\n",
    "charges.describe()"
   ]
  },
  {
   "cell_type": "code",
   "execution_count": 83,
   "metadata": {},
   "outputs": [
    {
     "data": {
      "text/plain": [
       "Practice ID              0\n",
       "Specialty                0\n",
       "Size                     0\n",
       "Statement Pay Enabled    0\n",
       "Guest Pay Enabled        0\n",
       "Portal Pay Enabled       0\n",
       "dtype: int64"
      ]
     },
     "execution_count": 83,
     "metadata": {},
     "output_type": "execute_result"
    }
   ],
   "source": [
    "#lets focus on practice to answer the first question in the assessment\n",
    "#checking for nulls in the dataset\n",
    "practice.isnull().sum()"
   ]
  },
  {
   "cell_type": "code",
   "execution_count": 84,
   "metadata": {},
   "outputs": [
    {
     "data": {
      "text/plain": [
       "(39, 6)"
      ]
     },
     "execution_count": 84,
     "metadata": {},
     "output_type": "execute_result"
    }
   ],
   "source": [
    "practice.shape\n"
   ]
  },
  {
   "cell_type": "code",
   "execution_count": 85,
   "metadata": {},
   "outputs": [
    {
     "data": {
      "text/plain": [
       "<matplotlib.axes._subplots.AxesSubplot at 0x194d9a3b788>"
      ]
     },
     "execution_count": 85,
     "metadata": {},
     "output_type": "execute_result"
    },
    {
     "data": {
      "image/png": "[encoded data removed]",
      "text/plain": [
       "<Figure size 432x288 with 1 Axes>"
      ]
     },
     "metadata": {
      "needs_background": "light"
     },
     "output_type": "display_data"
    }
   ],
   "source": [
    "#size of practices \n",
    "size_count = pd.DataFrame(practice.groupby('Size').size().sort_values(ascending=False).rename('Count').reset_index())\n",
    "size_count.head()\n",
    "size_count.plot(x='Size',y='Count',kind='bar')\n",
    "\n",
    "#dataset hs a lot of small practices involved."
   ]
  },
  {
   "cell_type": "code",
   "execution_count": 86,
   "metadata": {},
   "outputs": [
    {
     "data": {
      "text/plain": [
       "<matplotlib.axes._subplots.AxesSubplot at 0x194e0e92408>"
      ]
     },
     "execution_count": 86,
     "metadata": {},
     "output_type": "execute_result"
    },
    {
     "data": {
      "image/png": "[encoded data removed]",
      "text/plain": [
       "<Figure size 432x288 with 1 Axes>"
      ]
     },
     "metadata": {
      "needs_background": "light"
     },
     "output_type": "display_data"
    }
   ],
   "source": [
    "#speciality spread in practices\n",
    "sp_count = pd.DataFrame(practice.groupby('Specialty').size().sort_values(ascending=False).rename('Count').reset_index())\n",
    "sp_count.head()\n",
    "sp_count.plot(x='Specialty',y='Count',kind='bar')\n",
    "\n",
    "#most dominant being ob/gyn, helpful to look at other specialities and ER more specifically."
   ]
  },
  {
   "cell_type": "code",
   "execution_count": 87,
   "metadata": {},
   "outputs": [
    {
     "name": "stdout",
     "output_type": "stream",
     "text": [
      "Statement Pay Enabled  N   Y\n",
      "Size                        \n",
      "Large                  0   4\n",
      "Medium                 1   8\n",
      "Small                  2  18\n",
      "X-Large                2   4\n"
     ]
    },
    {
     "data": {
      "image/png": "[encoded data removed]",
      "text/plain": [
       "<Figure size 432x288 with 1 Axes>"
      ]
     },
     "metadata": {
      "needs_background": "light"
     },
     "output_type": "display_data"
    }
   ],
   "source": [
    "# Cross tabulation between Size and Statement Pay\n",
    "CrosstabResult=pd.crosstab(index=practice['Size'],columns=practice['Statement Pay Enabled'])\n",
    "print(CrosstabResult)\n",
    "\n",
    "ax = CrosstabResult.plot.bar()\n",
    "#Most small sized practices opt for statement pay\n",
    "\n",
    "for p in ax.patches:\n",
    "    ax.annotate(str(p.get_height()), (p.get_x() + p.get_width() / 2., p.get_height()), ha='center', va='bottom')\n"
   ]
  },
  {
   "cell_type": "code",
   "execution_count": 88,
   "metadata": {},
   "outputs": [
    {
     "name": "stdout",
     "output_type": "stream",
     "text": [
      "Guest Pay Enabled  N   Y\n",
      "Size                    \n",
      "Large              0   4\n",
      "Medium             1   8\n",
      "Small              2  18\n",
      "X-Large            0   6\n"
     ]
    },
    {
     "data": {
      "image/png": "[encoded data removed]",
      "text/plain": [
       "<Figure size 432x288 with 1 Axes>"
      ]
     },
     "metadata": {
      "needs_background": "light"
     },
     "output_type": "display_data"
    }
   ],
   "source": [
    "# Cross tabulation between Size and Guest Pay\n",
    "CrosstabResult1=pd.crosstab(index=practice['Size'],columns=practice['Guest Pay Enabled'])\n",
    "print(CrosstabResult1)\n",
    "\n",
    "ax = CrosstabResult1.plot.bar()\n",
    "for p in ax.patches:\n",
    "    ax.annotate(str(p.get_height()), (p.get_x() + p.get_width() / 2., p.get_height()), ha='center', va='bottom')\n"
   ]
  },
  {
   "cell_type": "code",
   "execution_count": 89,
   "metadata": {},
   "outputs": [
    {
     "name": "stdout",
     "output_type": "stream",
     "text": [
      "Portal Pay Enabled  N   Y\n",
      "Size                     \n",
      "Large               1   3\n",
      "Medium              1   8\n",
      "Small               4  16\n",
      "X-Large             3   3\n"
     ]
    },
    {
     "data": {
      "image/png": "[encoded data removed]",
      "text/plain": [
       "<Figure size 432x288 with 1 Axes>"
      ]
     },
     "metadata": {
      "needs_background": "light"
     },
     "output_type": "display_data"
    }
   ],
   "source": [
    "# Cross tabulation between Size and Portal Pay\n",
    "CrosstabResult2=pd.crosstab(index=practice['Size'],columns=practice['Portal Pay Enabled'])\n",
    "print(CrosstabResult2)\n",
    "\n",
    "ax = CrosstabResult2.plot.bar()\n",
    "for p in ax.patches:\n",
    "    ax.annotate(str(p.get_height()), (p.get_x() + p.get_width() / 2., p.get_height()), ha='center', va='bottom')\n"
   ]
  },
  {
   "cell_type": "code",
   "execution_count": 90,
   "metadata": {},
   "outputs": [],
   "source": [
    "#converting to numeric\n",
    "from sklearn.preprocessing import LabelEncoder\n",
    "\n",
    "lb = LabelEncoder() \n",
    "practice['speX'] = lb.fit_transform(practice['Statement Pay Enabled'])\n",
    "practice['gpeX'] = lb.fit_transform(practice['Guest Pay Enabled'])\n",
    "practice['ppeX'] = lb.fit_transform(practice['Portal Pay Enabled'])"
   ]
  },
  {
   "cell_type": "code",
   "execution_count": 91,
   "metadata": {},
   "outputs": [
    {
     "data": {
      "text/html": [
       "<div>\n",
       "<style scoped>\n",
       "    .dataframe tbody tr th:only-of-type {\n",
       "        vertical-align: middle;\n",
       "    }\n",
       "\n",
       "    .dataframe tbody tr th {\n",
       "        vertical-align: top;\n",
       "    }\n",
       "\n",
       "    .dataframe thead th {\n",
       "        text-align: right;\n",
       "    }\n",
       "</style>\n",
       "<table border=\"1\" class=\"dataframe\">\n",
       "  <thead>\n",
       "    <tr style=\"text-align: right;\">\n",
       "      <th></th>\n",
       "      <th>Practice ID</th>\n",
       "      <th>Specialty</th>\n",
       "      <th>Size</th>\n",
       "      <th>Statement Pay Enabled</th>\n",
       "      <th>Guest Pay Enabled</th>\n",
       "      <th>Portal Pay Enabled</th>\n",
       "      <th>speX</th>\n",
       "      <th>gpeX</th>\n",
       "      <th>ppeX</th>\n",
       "    </tr>\n",
       "  </thead>\n",
       "  <tbody>\n",
       "    <tr>\n",
       "      <th>0</th>\n",
       "      <td>57</td>\n",
       "      <td>Obstetrics/Gynecology</td>\n",
       "      <td>Small</td>\n",
       "      <td>Y</td>\n",
       "      <td>Y</td>\n",
       "      <td>Y</td>\n",
       "      <td>1</td>\n",
       "      <td>1</td>\n",
       "      <td>1</td>\n",
       "    </tr>\n",
       "    <tr>\n",
       "      <th>1</th>\n",
       "      <td>72</td>\n",
       "      <td>Pediatrics</td>\n",
       "      <td>Small</td>\n",
       "      <td>Y</td>\n",
       "      <td>Y</td>\n",
       "      <td>Y</td>\n",
       "      <td>1</td>\n",
       "      <td>1</td>\n",
       "      <td>1</td>\n",
       "    </tr>\n",
       "    <tr>\n",
       "      <th>2</th>\n",
       "      <td>129</td>\n",
       "      <td>Obstetrics/Gynecology</td>\n",
       "      <td>Small</td>\n",
       "      <td>Y</td>\n",
       "      <td>Y</td>\n",
       "      <td>Y</td>\n",
       "      <td>1</td>\n",
       "      <td>1</td>\n",
       "      <td>1</td>\n",
       "    </tr>\n",
       "    <tr>\n",
       "      <th>3</th>\n",
       "      <td>210</td>\n",
       "      <td>Obstetrics/Gynecology</td>\n",
       "      <td>Small</td>\n",
       "      <td>Y</td>\n",
       "      <td>Y</td>\n",
       "      <td>Y</td>\n",
       "      <td>1</td>\n",
       "      <td>1</td>\n",
       "      <td>1</td>\n",
       "    </tr>\n",
       "    <tr>\n",
       "      <th>4</th>\n",
       "      <td>219</td>\n",
       "      <td>Obstetrics/Gynecology</td>\n",
       "      <td>X-Large</td>\n",
       "      <td>Y</td>\n",
       "      <td>Y</td>\n",
       "      <td>Y</td>\n",
       "      <td>1</td>\n",
       "      <td>1</td>\n",
       "      <td>1</td>\n",
       "    </tr>\n",
       "  </tbody>\n",
       "</table>\n",
       "</div>"
      ],
      "text/plain": [
       "   Practice ID              Specialty     Size Statement Pay Enabled  \\\n",
       "0           57  Obstetrics/Gynecology    Small                     Y   \n",
       "1           72             Pediatrics    Small                     Y   \n",
       "2          129  Obstetrics/Gynecology    Small                     Y   \n",
       "3          210  Obstetrics/Gynecology    Small                     Y   \n",
       "4          219  Obstetrics/Gynecology  X-Large                     Y   \n",
       "\n",
       "  Guest Pay Enabled Portal Pay Enabled  speX  gpeX  ppeX  \n",
       "0                 Y                  Y     1     1     1  \n",
       "1                 Y                  Y     1     1     1  \n",
       "2                 Y                  Y     1     1     1  \n",
       "3                 Y                  Y     1     1     1  \n",
       "4                 Y                  Y     1     1     1  "
      ]
     },
     "execution_count": 91,
     "metadata": {},
     "output_type": "execute_result"
    }
   ],
   "source": [
    "practice.head()"
   ]
  },
  {
   "cell_type": "code",
   "execution_count": 92,
   "metadata": {},
   "outputs": [],
   "source": [
    "#to see if practices had all 3 payment modes enabled\n",
    "practice['Count of Online payment options'] = practice['speX'] + practice['gpeX'] + practice['ppeX'] "
   ]
  },
  {
   "cell_type": "code",
   "execution_count": 93,
   "metadata": {},
   "outputs": [
    {
     "name": "stdout",
     "output_type": "stream",
     "text": [
      "Count of Online payment options\n",
      "1     7\n",
      "2     3\n",
      "3    29\n",
      "Name: Practice ID, dtype: int64\n"
     ]
    },
    {
     "data": {
      "image/png": "[encoded data removed]",
      "text/plain": [
       "<Figure size 432x288 with 1 Axes>"
      ]
     },
     "metadata": {},
     "output_type": "display_data"
    }
   ],
   "source": [
    "hospital_count = practice.groupby('Count of Online payment options')['Practice ID'].count()\n",
    "print(hospital_count)\n",
    "\n",
    "# Create the pie chart\n",
    "plt.pie(hospital_count, labels=hospital_count.index, autopct='%1.1f%%')\n",
    "\n",
    "# Add a title\n",
    "plt.title('Percentage of practices offering 1,2,3 online payment options')\n",
    "\n",
    "# Display the chart\n",
    "plt.show()"
   ]
  },
  {
   "cell_type": "code",
   "execution_count": 94,
   "metadata": {},
   "outputs": [
    {
     "name": "stdout",
     "output_type": "stream",
     "text": [
      "Count of Online payment options  1  2   3  Total\n",
      "Size                                            \n",
      "Large                            0  1   3      4\n",
      "Medium                           1  1   7      9\n",
      "Small                            4  0  16     20\n",
      "X-Large                          2  1   3      6\n",
      "Total                            7  3  29     39\n"
     ]
    },
    {
     "data": {
      "text/plain": [
       "<matplotlib.axes._subplots.AxesSubplot at 0x194d906fec8>"
      ]
     },
     "execution_count": 94,
     "metadata": {},
     "output_type": "execute_result"
    },
    {
     "data": {
      "image/png": "[encoded data removed]",
      "text/plain": [
       "<Figure size 432x288 with 1 Axes>"
      ]
     },
     "metadata": {
      "needs_background": "light"
     },
     "output_type": "display_data"
    }
   ],
   "source": [
    "CrosstabResult4=pd.crosstab(index=practice['Size'],columns=practice['Count of Online payment options'],margins=True, margins_name='Total')\n",
    "print(CrosstabResult4)\n",
    "\n",
    "CrosstabResult4.plot.bar()\n",
    "#all pratices had atleast 1 of the three forms of payment enabled. "
   ]
  },
  {
   "cell_type": "code",
   "execution_count": 95,
   "metadata": {},
   "outputs": [
    {
     "data": {
      "text/plain": [
       "<matplotlib.axes._subplots.AxesSubplot at 0x194d9b8e3c8>"
      ]
     },
     "execution_count": 95,
     "metadata": {},
     "output_type": "execute_result"
    },
    {
     "data": {
      "image/png": "[encoded data removed]",
      "text/plain": [
       "<Figure size 432x288 with 2 Axes>"
      ]
     },
     "metadata": {
      "needs_background": "light"
     },
     "output_type": "display_data"
    }
   ],
   "source": [
    "#Heat map for between size of practices and total payment types enabled. \n",
    "#large firms had atleast 2 types enabled, other types had atleast 1 payment type\n",
    "st = practice[['Size','Count of Online payment options']]\n",
    "st_plot = pd.DataFrame(st.groupby(['Size','Count of Online payment options']).size().sort_values(ascending=False).rename('Count').reset_index())\n",
    "st_matrix = st_plot.pivot_table(values='Count',index='Count of Online payment options',columns='Size')\n",
    "sns.heatmap(st_matrix)"
   ]
  },
  {
   "cell_type": "code",
   "execution_count": 96,
   "metadata": {},
   "outputs": [
    {
     "data": {
      "text/plain": [
       "Practice ID                         int64\n",
       "Specialty                          string\n",
       "Size                               string\n",
       "Statement Pay Enabled              string\n",
       "Guest Pay Enabled                  string\n",
       "Portal Pay Enabled                 string\n",
       "speX                                int32\n",
       "gpeX                                int32\n",
       "ppeX                                int32\n",
       "Count of Online payment options     int32\n",
       "dtype: object"
      ]
     },
     "execution_count": 96,
     "metadata": {},
     "output_type": "execute_result"
    }
   ],
   "source": [
    "practice['Size'] = practice['Size'].astype('string')\n",
    "practice['Specialty'] = practice['Specialty'].astype('string')\n",
    "practice['Statement Pay Enabled'] = practice['Statement Pay Enabled'].astype('string')\n",
    "practice['Guest Pay Enabled'] = practice['Guest Pay Enabled'].astype('string')\n",
    "practice['Portal Pay Enabled'] = practice['Portal Pay Enabled'].astype('string')\n",
    "practice.dtypes"
   ]
  },
  {
   "cell_type": "code",
   "execution_count": 97,
   "metadata": {},
   "outputs": [
    {
     "name": "stdout",
     "output_type": "stream",
     "text": [
      "Chi-square test statistic: 3.0129411764705885\n",
      "P-value: 0.38963420184480085\n",
      "Degrees of freedom: 3\n",
      "Expected frequencies:\n",
      " [[ 0.51282051  3.48717949]\n",
      " [ 1.15384615  7.84615385]\n",
      " [ 2.56410256 17.43589744]\n",
      " [ 0.76923077  5.23076923]]\n"
     ]
    }
   ],
   "source": [
    "#Null hypothesis: There is no relationship between Practice size and Statement Pay Enabled\n",
    "#Alternate hypothesis: There is a relationship between Practice size and Statement Pay Enabled\n",
    "\n",
    "contingency_table = pd.crosstab(practice['Size'], practice['Statement Pay Enabled'])\n",
    "\n",
    "# Perform chi-square test of independence\n",
    "chi2, p, dof, expected = chi2_contingency(contingency_table)\n",
    "\n",
    "# Print the test statistic, p-value, degrees of freedom, and expected frequencies\n",
    "print(\"Chi-square test statistic:\", chi2)\n",
    "print(\"P-value:\", p)\n",
    "print(\"Degrees of freedom:\", dof)\n",
    "print(\"Expected frequencies:\\n\", expected)"
   ]
  },
  {
   "cell_type": "code",
   "execution_count": 98,
   "metadata": {},
   "outputs": [
    {
     "name": "stdout",
     "output_type": "stream",
     "text": [
      "Chi-square test statistic: 3.290925925925926\n",
      "P-value: 0.3489075850222059\n",
      "Degrees of freedom: 3\n",
      "Expected frequencies:\n",
      " [[ 0.92307692  3.07692308]\n",
      " [ 2.07692308  6.92307692]\n",
      " [ 4.61538462 15.38461538]\n",
      " [ 1.38461538  4.61538462]]\n"
     ]
    }
   ],
   "source": [
    "#Null hypothesis: There is no relationship between Practice size and Portal Pay Enabled\n",
    "#Alternate hypothesis: There is a relationship between Practice size and Portal Pay Enabled\n",
    "\n",
    "contingency_table = pd.crosstab(practice['Size'], practice['Portal Pay Enabled'])\n",
    "\n",
    "# Perform chi-square test of independence\n",
    "chi2, p, dof, expected = chi2_contingency(contingency_table)\n",
    "\n",
    "# Print the test statistic, p-value, degrees of freedom, and expected frequencies\n",
    "print(\"Chi-square test statistic:\", chi2)\n",
    "print(\"P-value:\", p)\n",
    "print(\"Degrees of freedom:\", dof)\n",
    "print(\"Expected frequencies:\\n\", expected)"
   ]
  },
  {
   "cell_type": "code",
   "execution_count": 99,
   "metadata": {},
   "outputs": [
    {
     "name": "stdout",
     "output_type": "stream",
     "text": [
      "Chi-square test statistic: 1.1314814814814813\n",
      "P-value: 0.7694802741825926\n",
      "Degrees of freedom: 3\n",
      "Expected frequencies:\n",
      " [[ 0.30769231  3.69230769]\n",
      " [ 0.69230769  8.30769231]\n",
      " [ 1.53846154 18.46153846]\n",
      " [ 0.46153846  5.53846154]]\n"
     ]
    }
   ],
   "source": [
    "#Null hypothesis: There is no relationship between Practice size and Guest Pay Enabled\n",
    "#Alternate hypothesis: There is a relationship between Practice size and Guest Pay Enabled\n",
    "\n",
    "contingency_table = pd.crosstab(practice['Size'], practice['Guest Pay Enabled'])\n",
    "\n",
    "# Perform chi-square test of independence\n",
    "chi2, p, dof, expected = chi2_contingency(contingency_table)\n",
    "\n",
    "# Print the test statistic, p-value, degrees of freedom, and expected frequencies\n",
    "print(\"Chi-square test statistic:\", chi2)\n",
    "print(\"P-value:\", p)\n",
    "print(\"Degrees of freedom:\", dof)\n",
    "print(\"Expected frequencies:\\n\", expected)"
   ]
  },
  {
   "cell_type": "code",
   "execution_count": null,
   "metadata": {},
   "outputs": [],
   "source": [
    "#since all the three p values are high, we can accept the null hypothesis and \n",
    "#accept that the size of firms do not affect the payment modes enabled."
   ]
  },
  {
   "cell_type": "code",
   "execution_count": 105,
   "metadata": {},
   "outputs": [],
   "source": [
    "#patient age analysis\n",
    "# Create a new column 'AgeRange' based on the age ranges\n",
    "buckets = [0, 10, 20, 30, 40, 50,60,70,80, 90,float('inf')]\n",
    "labels = ['0', '10', '20', '30', '40','50','60','70','80','90']\n",
    "\n",
    "# Create a new column 'AgeRange' based on the age ranges\n",
    "charges['AgeRange'] = pd.cut(charges['Patient Age'], bins=buckets, labels=labels)"
   ]
  },
  {
   "cell_type": "code",
   "execution_count": 106,
   "metadata": {},
   "outputs": [
    {
     "name": "stdout",
     "output_type": "stream",
     "text": [
      "AgeRange           0    10     20     30    40    50    60    70    80   90\n",
      "Payment Method                                                             \n",
      "GUEST PAY        402   349    795    926   562   536   464   286   128   29\n",
      "OTHER           5999  6544  11756  11740  8242  8213  8048  5607  2327  392\n",
      "PORTAL PAY       504   511   1157   1279   758   792   777   450   174   18\n",
      "STATEMENT PAY   1002   912   1875   2081  1294  1173  1111   694   286   43\n"
     ]
    }
   ],
   "source": [
    "# Create a contingency table\n",
    "contingency_table = pd.crosstab(payments['Payment Method'],charges['AgeRange'])\n",
    "\n",
    "# Print the contingency table\n",
    "print(contingency_table)\n",
    "#but these values have duplicates because patient age is linked with charges and there can be multiple charges and payments"
   ]
  },
  {
   "cell_type": "code",
   "execution_count": 107,
   "metadata": {},
   "outputs": [
    {
     "name": "stdout",
     "output_type": "stream",
     "text": [
      "Chi-squared statistic: 238.24008820900326\n",
      "Degrees of freedom: 27\n",
      "P-value: 1.0744280785508294e-35\n",
      "Expected frequencies:\n",
      "AgeRange                  0           10            20            30  \\\n",
      "Payment Method                                                         \n",
      "GUEST PAY        392.300623   412.592890    773.140332    795.119487   \n",
      "OTHER           6034.612306  6346.760583  11892.925706  12231.022740   \n",
      "PORTAL PAY       562.557516   591.656545   1108.680128   1140.198147   \n",
      "STATEMENT PAY    917.529556   964.989982   1808.253834   1859.659626   \n",
      "\n",
      "AgeRange                 40           50           60           70  \\\n",
      "Payment Method                                                       \n",
      "GUEST PAY        538.613325   531.568088   515.989184   349.136143   \n",
      "OTHER           8285.285341  8176.911122  7937.266723  5370.629416   \n",
      "PORTAL PAY       772.369343   762.266501   739.926415   500.659825   \n",
      "STATEMENT PAY   1259.731992  1243.254289  1206.817678   816.574615   \n",
      "\n",
      "AgeRange                 80          90  \n",
      "Payment Method                           \n",
      "GUEST PAY        144.625815   23.914114  \n",
      "OTHER           2224.724279  367.861785  \n",
      "PORTAL PAY       207.392837   34.292743  \n",
      "STATEMENT PAY    338.257070   55.931358  \n"
     ]
    }
   ],
   "source": [
    "#Null hypothesis: There is no relationship between payment method and age range\n",
    "#Alternate hypothesis: There is a relationship between payment method and age range\n",
    "# Create the contingency table using crosstab\n",
    "contingency_table = pd.crosstab(payments['Payment Method'],charges['AgeRange'])\n",
    "\n",
    "# Perform the chi-square test\n",
    "chi2, p_value, dof, expected = chi2_contingency(contingency_table)\n",
    "\n",
    "# Print the results\n",
    "print(\"Chi-squared statistic:\", chi2)\n",
    "print(\"Degrees of freedom:\", dof)\n",
    "print(\"P-value:\", p_value)\n",
    "print(\"Expected frequencies:\")\n",
    "print(pd.DataFrame(expected, index=contingency_table.index, columns=contingency_table.columns))\n",
    "\n",
    "#with low p values, we reject null hypothesis and establish that there is relationship between age ranges and payment methods."
   ]
  },
  {
   "cell_type": "code",
   "execution_count": 108,
   "metadata": {
    "scrolled": true
   },
   "outputs": [
    {
     "name": "stdout",
     "output_type": "stream",
     "text": [
      "Chi-squared statistic: 1124.7857988271462\n",
      "Degrees of freedom: 27\n",
      "P-value: 8.090494261250005e-220\n",
      "Expected frequencies: [[ 236.70835568  232.01634863  433.7046517   477.3607173   331.97649884\n",
      "   306.40846042  310.01246583  221.81633331   94.72414234   17.27202595]\n",
      " [2606.72631364 2555.05607071 4776.12767262 5256.8855851  3655.85689836\n",
      "  3374.29151659 3413.98025391 2442.72945564 1043.13983192  190.20640151]\n",
      " [ 215.2783355   211.01111196  394.43988045  434.14361254  301.92152655\n",
      "   278.66825044  281.94597287  201.73453905   86.14844049   15.70833014]\n",
      " [ 422.28699517  413.91646869  773.72779523  851.61008506  592.24507625\n",
      "   546.63177255  553.06130738  395.71967201  168.98758526   30.81324239]]\n"
     ]
    }
   ],
   "source": [
    "#contingency table\n",
    "observed = np.array([[196, 125,515,589,350,296,301,225,58,7], \n",
    "                     [2453, 2563,4668,4701,3566,3482,3612,2775,1259,236],\n",
    "                     [404, 237,287,531,328,225,242,125,35,7],\n",
    "                     [428,487,908,1199,638,503,404,137,41,4]])\n",
    "                    \n",
    "                     \n",
    "# Perform the chi-squared test\n",
    "chi2, p_value, dof, expected = chi2_contingency(observed)\n",
    "\n",
    "# Print the results\n",
    "print(\"Chi-squared statistic:\", chi2)\n",
    "print(\"Degrees of freedom:\", dof)\n",
    "print(\"P-value:\", p_value)\n",
    "print(\"Expected frequencies:\", expected)\n",
    "\n",
    "#after removing duplicates[checked values on Tableau], we still see low p- value implying rejection of null hypothesis."
   ]
  }
 ],
 "metadata": {
  "kernelspec": {
   "display_name": "Python 3",
   "language": "python",
   "name": "python3"
  },
  "language_info": {
   "codemirror_mode": {
    "name": "ipython",
    "version": 3
   },
   "file_extension": ".py",
   "mimetype": "text/x-python",
   "name": "python",
   "nbconvert_exporter": "python",
   "pygments_lexer": "ipython3",
   "version": "3.7.6"
  }
 },
 "nbformat": 4,
 "nbformat_minor": 4
}
